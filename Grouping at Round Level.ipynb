{
 "cells": [
  {
   "cell_type": "code",
   "execution_count": 1,
   "metadata": {},
   "outputs": [],
   "source": [
    "import pandas as pd\n",
    "import numpy as np"
   ]
  },
  {
   "cell_type": "markdown",
   "metadata": {},
   "source": [
    "## Grouping rounds for Orkney data"
   ]
  },
  {
   "cell_type": "code",
   "execution_count": 2,
   "metadata": {},
   "outputs": [],
   "source": [
    "orkney_data = pd.read_excel('./data/Data Orkney.xlsb', engine='pyxlsb')"
   ]
  },
  {
   "cell_type": "code",
   "execution_count": 3,
   "metadata": {},
   "outputs": [],
   "source": [
    "orkney_data.drop(['SN', 'Start', 'End', 'Date', 'year', 'month', 'day', 'hour', 'minute', 'second', 'cul'], axis=1, inplace=True)"
   ]
  },
  {
   "cell_type": "code",
   "execution_count": 4,
   "metadata": {},
   "outputs": [],
   "source": [
    "game_groups = orkney_data.groupby(['GameID', 'Rounds', 'Treatments'])\n",
    "row_list = []\n",
    "i=0\n",
    "for grp in game_groups.groups:\n",
    "    #print(i)\n",
    "    i+=1\n",
    "    df = game_groups.get_group(grp)\n",
    "    col_list = ['{}_{}'.format(c, x) for x in [1, 2, 3, 4] for c in df.columns]\n",
    "    df = df.stack(dropna=False).to_frame().T\n",
    "    df.columns = col_list\n",
    "    row_list.append(df)\n",
    "orkney_grouped = pd.concat(row_list, axis=0, ignore_index=True)"
   ]
  },
  {
   "cell_type": "code",
   "execution_count": 5,
   "metadata": {},
   "outputs": [
    {
     "name": "stdout",
     "output_type": "stream",
     "text": [
      "GameID\n",
      "True\n",
      "True\n",
      "True\n",
      "Treatments\n",
      "True\n",
      "True\n",
      "True\n",
      "Rounds\n",
      "True\n",
      "True\n",
      "True\n",
      "subsidy\n",
      "True\n",
      "True\n",
      "True\n",
      "order\n",
      "True\n",
      "True\n",
      "True\n",
      "a_count\n",
      "True\n",
      "True\n",
      "True\n"
     ]
    }
   ],
   "source": [
    "lst = ['GameID', 'Treatments', 'Rounds', 'subsidy', 'order', 'a_count']\n",
    "for x in lst:\n",
    "    print(x)\n",
    "    a=x+'_1'\n",
    "    b=x+'_2'\n",
    "    c=x+'_3'\n",
    "    d=x+'_4'\n",
    "    print((orkney_grouped[a].dropna()==orkney_grouped[b].dropna()).all())\n",
    "    print((orkney_grouped[a].dropna()==orkney_grouped[c].dropna()).all())\n",
    "    print((orkney_grouped[a].dropna()==orkney_grouped[d].dropna()).all())"
   ]
  },
  {
   "cell_type": "code",
   "execution_count": 6,
   "metadata": {},
   "outputs": [],
   "source": [
    "common_col_list = ['GameID', 'Treatments', 'Rounds', 'subsidy', 'order', 'a_count']\n",
    "drop_list = ['{}_{}'.format(y, x) for x in [2 ,3, 4] for y in common_col_list]\n",
    "name_list = ['{}_1'.format(y) for y in common_col_list]\n",
    "rename_dict = dict(zip(name_list, common_col_list))\n",
    "orkney_grouped.drop(drop_list, axis=1, inplace=True)\n",
    "orkney_grouped.rename(columns=rename_dict, inplace=True)"
   ]
  },
  {
   "cell_type": "code",
   "execution_count": 7,
   "metadata": {},
   "outputs": [],
   "source": [
    "orkney_grouped.to_csv('./output/orkney_grp.csv')"
   ]
  },
  {
   "cell_type": "code",
   "execution_count": 8,
   "metadata": {},
   "outputs": [],
   "source": [
    "del orkney_data\n",
    "del orkney_grouped"
   ]
  },
  {
   "cell_type": "markdown",
   "metadata": {},
   "source": [
    "## Grouping rounds for Gabon data"
   ]
  },
  {
   "cell_type": "code",
   "execution_count": 9,
   "metadata": {},
   "outputs": [],
   "source": [
    "gabon_data = pd.read_excel('./data/Data Gabon.xlsb', engine='pyxlsb')"
   ]
  },
  {
   "cell_type": "code",
   "execution_count": 10,
   "metadata": {},
   "outputs": [],
   "source": [
    "#gabon_data = pd.read_excel('gabon.xlsx')\n",
    "#gabon_data['GameID'] = gabon_data['GameID'].astype('str')\n",
    "#gabon_data.replace({'GameID': {'2019-06-01 00:00:00': '01JUN'}}, inplace=True)"
   ]
  },
  {
   "cell_type": "code",
   "execution_count": 11,
   "metadata": {},
   "outputs": [
    {
     "name": "stdout",
     "output_type": "stream",
     "text": [
      "T2    32\n",
      "T4    32\n",
      "T5    32\n",
      "T3    32\n",
      "Name: Treatments, dtype: int64\n",
      "3.0    40\n",
      "4.0    32\n",
      "1.0    32\n",
      "2.0    24\n",
      "Name: Game_order, dtype: int64\n",
      "After correction:\n",
      "T2    32\n",
      "T4    32\n",
      "T5    32\n",
      "T3    32\n",
      "Name: Treatments, dtype: int64\n",
      "3.0    32\n",
      "2.0    32\n",
      "4.0    32\n",
      "1.0    32\n",
      "Name: Game_order, dtype: int64\n"
     ]
    }
   ],
   "source": [
    "print(gabon_data[gabon_data['GameID']=='2CAS']['Treatments'].value_counts(dropna=False))\n",
    "print(gabon_data[gabon_data['GameID']=='2CAS']['Game_order'].value_counts(dropna=False))\n",
    "#gabon_data[(gabon_data['GameID']=='2CAS')&(gabon_data['Game_order']==3)&(gabon_data['Treatments']=='T5')][['Game_order', 'Treatments']]\n",
    "gabon_data['Game_order'] = np.where((gabon_data['GameID']=='2CAS')&(gabon_data['Game_order']==3)&(gabon_data['Treatments']=='T5'),\n",
    "                                   2, gabon_data['Game_order'])\n",
    "print('After correction:')\n",
    "print(gabon_data[gabon_data['GameID']=='2CAS']['Treatments'].value_counts(dropna=False))\n",
    "print(gabon_data[gabon_data['GameID']=='2CAS']['Game_order'].value_counts(dropna=False))"
   ]
  },
  {
   "cell_type": "code",
   "execution_count": 12,
   "metadata": {},
   "outputs": [
    {
     "name": "stdout",
     "output_type": "stream",
     "text": [
      "4OTO     128\n",
      "4BON     128\n",
      "2MIKI    128\n",
      "3AYE     128\n",
      "1MAS     128\n",
      "        ... \n",
      "1MAN     128\n",
      "2MAN     128\n",
      "3MAL     128\n",
      "43617     96\n",
      "01JUN     32\n",
      "Name: GameID, Length: 66, dtype: int64\n",
      "After correction:\n",
      "01JUN    128\n",
      "4OTO     128\n",
      "2MIKI    128\n",
      "3AYE     128\n",
      "1MAS     128\n",
      "        ... \n",
      "2MIK     128\n",
      "1MAN     128\n",
      "2MAN     128\n",
      "3MAL     128\n",
      "1BOU     128\n",
      "Name: GameID, Length: 65, dtype: int64\n"
     ]
    }
   ],
   "source": [
    "print(gabon_data['GameID'].value_counts())\n",
    "gabon_data['GameID'] = np.where(gabon_data['GameID']==43617, '01JUN', gabon_data['GameID'])\n",
    "print('After correction:')\n",
    "print(gabon_data['GameID'].value_counts())"
   ]
  },
  {
   "cell_type": "code",
   "execution_count": 13,
   "metadata": {},
   "outputs": [
    {
     "name": "stdout",
     "output_type": "stream",
     "text": [
      "1.0    2080\n",
      "2.0    2080\n",
      "4.0    2048\n",
      "3.0    2048\n",
      "NaN      64\n",
      "Name: Game_order, dtype: int64\n",
      "256\n",
      "288\n",
      "After correction:\n",
      "4.0    2080\n",
      "1.0    2080\n",
      "2.0    2080\n",
      "3.0    2080\n",
      "Name: Game_order, dtype: int64\n"
     ]
    }
   ],
   "source": [
    "print(gabon_data['Game_order'].value_counts(dropna=False))\n",
    "print(len(gabon_data[(gabon_data['Game_order']==3)&(gabon_data['VillageID']=='MAL')]))\n",
    "print(len(gabon_data[(gabon_data['Game_order']==4)&(gabon_data['VillageID']=='MAL')]))\n",
    "gabon_data['Game_order'] = np.where((gabon_data['Game_order'].isna())&(gabon_data['VillageID']=='MAL'), 3, gabon_data['Game_order'])\n",
    "gabon_data['Game_order'] = np.where((gabon_data['Game_order'].isna())&(gabon_data['VillageID']=='BON'), 4, gabon_data['Game_order'])\n",
    "print('After correction:')\n",
    "print(gabon_data['Game_order'].value_counts(dropna=False))"
   ]
  },
  {
   "cell_type": "code",
   "execution_count": 14,
   "metadata": {},
   "outputs": [],
   "source": [
    "gabon_data.drop(columns=['SN', 'Start_Interv', 'End_Interv', 'Date', 'Enumerator', 'Yea', 'Mth', 'Day', 'Hou', 'Min', 'Sec', 'Cul'], inplace=True)"
   ]
  },
  {
   "cell_type": "code",
   "execution_count": 15,
   "metadata": {},
   "outputs": [],
   "source": [
    "game_groups = gabon_data.groupby(['GameID', 'Rounds', 'Treatments'])\n",
    "row_list = []\n",
    "i=0\n",
    "for grp in game_groups.groups:\n",
    "    #print(i)\n",
    "    i+=1\n",
    "    df = game_groups.get_group(grp)\n",
    "    col_list = ['{}_{}'.format(c, x) for x in [1, 2, 3, 4] for c in df.columns]\n",
    "    df = df.stack(dropna=False).to_frame().T\n",
    "    df.columns = col_list\n",
    "    row_list.append(df)\n",
    "gabon_grouped = pd.concat(row_list, axis=0, ignore_index=True)"
   ]
  },
  {
   "cell_type": "code",
   "execution_count": 16,
   "metadata": {},
   "outputs": [
    {
     "name": "stdout",
     "output_type": "stream",
     "text": [
      "GameID\n",
      "True\n",
      "True\n",
      "True\n",
      "Treatments\n",
      "True\n",
      "True\n",
      "True\n",
      "Rounds\n",
      "True\n",
      "True\n",
      "True\n",
      "Game_order\n",
      "True\n",
      "True\n",
      "True\n",
      "a_count\n",
      "True\n",
      "True\n",
      "True\n",
      "Sub\n",
      "False\n",
      "False\n",
      "False\n"
     ]
    }
   ],
   "source": [
    "lst = ['GameID', 'Treatments', 'Rounds', 'Game_order', 'a_count', 'Sub']\n",
    "for x in lst:\n",
    "    print(x)\n",
    "    a=x+'_1'\n",
    "    b=x+'_2'\n",
    "    c=x+'_3'\n",
    "    d=x+'_4'\n",
    "    print((gabon_grouped[a].dropna()==gabon_grouped[b].dropna()).all())\n",
    "    print((gabon_grouped[a].dropna()==gabon_grouped[c].dropna()).all())\n",
    "    print((gabon_grouped[a].dropna()==gabon_grouped[d].dropna()).all())"
   ]
  },
  {
   "cell_type": "code",
   "execution_count": 17,
   "metadata": {},
   "outputs": [
    {
     "data": {
      "text/html": [
       "<div>\n",
       "<style scoped>\n",
       "    .dataframe tbody tr th:only-of-type {\n",
       "        vertical-align: middle;\n",
       "    }\n",
       "\n",
       "    .dataframe tbody tr th {\n",
       "        vertical-align: top;\n",
       "    }\n",
       "\n",
       "    .dataframe thead th {\n",
       "        text-align: right;\n",
       "    }\n",
       "</style>\n",
       "<table border=\"1\" class=\"dataframe\">\n",
       "  <thead>\n",
       "    <tr style=\"text-align: right;\">\n",
       "      <th></th>\n",
       "      <th>Sub_1</th>\n",
       "      <th>Sub_4</th>\n",
       "      <th>GameID_1</th>\n",
       "    </tr>\n",
       "  </thead>\n",
       "  <tbody>\n",
       "    <tr>\n",
       "      <th>195</th>\n",
       "      <td>2</td>\n",
       "      <td>4</td>\n",
       "      <td>15LOP</td>\n",
       "    </tr>\n",
       "    <tr>\n",
       "      <th>197</th>\n",
       "      <td>2</td>\n",
       "      <td>4</td>\n",
       "      <td>15LOP</td>\n",
       "    </tr>\n",
       "    <tr>\n",
       "      <th>205</th>\n",
       "      <td>4</td>\n",
       "      <td>2</td>\n",
       "      <td>15LOP</td>\n",
       "    </tr>\n",
       "  </tbody>\n",
       "</table>\n",
       "</div>"
      ],
      "text/plain": [
       "    Sub_1 Sub_4 GameID_1\n",
       "195     2     4    15LOP\n",
       "197     2     4    15LOP\n",
       "205     4     2    15LOP"
      ]
     },
     "execution_count": 17,
     "metadata": {},
     "output_type": "execute_result"
    }
   ],
   "source": [
    "gabon_grouped[gabon_grouped['Sub_1']!=gabon_grouped['Sub_4']][['Sub_1','Sub_4', 'GameID_1']].dropna()"
   ]
  },
  {
   "cell_type": "code",
   "execution_count": 18,
   "metadata": {},
   "outputs": [],
   "source": [
    "gabon_grouped['Sub_1'] = gabon_grouped['Sub_3']\n",
    "gabon_grouped['Sub_2'] = gabon_grouped['Sub_3']"
   ]
  },
  {
   "cell_type": "code",
   "execution_count": 19,
   "metadata": {},
   "outputs": [],
   "source": [
    "common_col_list = ['GameID', 'Treatments', 'Rounds', 'Sub', 'Game_order', 'a_count']\n",
    "drop_list = ['{}_{}'.format(y, x) for x in [2, 3, 4] for y in common_col_list]\n",
    "name_list = ['{}_1'.format(y) for y in common_col_list]\n",
    "rename_dict = dict(zip(name_list, common_col_list))\n",
    "gabon_grouped.drop(drop_list, axis=1, inplace=True)\n",
    "gabon_grouped.rename(columns=rename_dict, inplace=True)"
   ]
  },
  {
   "cell_type": "code",
   "execution_count": 20,
   "metadata": {},
   "outputs": [],
   "source": [
    "gabon_grouped.to_csv('./output/gabon_grp.csv')"
   ]
  },
  {
   "cell_type": "code",
   "execution_count": 21,
   "metadata": {},
   "outputs": [],
   "source": [
    "del gabon_data\n",
    "del gabon_grouped"
   ]
  },
  {
   "cell_type": "markdown",
   "metadata": {},
   "source": [
    "## Grouping rounds for Madagascar-Kenya data"
   ]
  },
  {
   "cell_type": "code",
   "execution_count": 22,
   "metadata": {},
   "outputs": [],
   "source": [
    "data = pd.read_excel('./data/Data Madagascar _ Kenya.xlsb', engine='pyxlsb')"
   ]
  },
  {
   "cell_type": "code",
   "execution_count": 23,
   "metadata": {},
   "outputs": [],
   "source": [
    "data.drop(['SN', 'year', 'mont', 'dayy', 'hour', 'minu', 'seco'], axis=1, inplace=True)"
   ]
  },
  {
   "cell_type": "code",
   "execution_count": 24,
   "metadata": {},
   "outputs": [
    {
     "data": {
      "text/plain": [
       "array(['P', 'T1', 'T2', 'T3', 'T4', 'T5'], dtype=object)"
      ]
     },
     "execution_count": 24,
     "metadata": {},
     "output_type": "execute_result"
    }
   ],
   "source": [
    "data['Treatments'].unique()"
   ]
  },
  {
   "cell_type": "code",
   "execution_count": 25,
   "metadata": {},
   "outputs": [
    {
     "data": {
      "text/plain": [
       "array(['T1', 'T2', 'T3', 'T4', 'T5'], dtype=object)"
      ]
     },
     "execution_count": 25,
     "metadata": {},
     "output_type": "execute_result"
    }
   ],
   "source": [
    "data = data[data.Treatments != 'P']\n",
    "data['Treatments'].unique()"
   ]
  },
  {
   "cell_type": "code",
   "execution_count": 26,
   "metadata": {},
   "outputs": [
    {
     "name": "stdout",
     "output_type": "stream",
     "text": [
      "11AND    220\n",
      "02AND    220\n",
      "09IMA    220\n",
      "22LAK    220\n",
      "19LAK    220\n",
      "        ... \n",
      "04SAN    220\n",
      "06IMA    165\n",
      "02IMA    165\n",
      "O6IMA     55\n",
      "O2IMA     55\n",
      "Name: GAMEID, Length: 95, dtype: int64\n",
      "After correction:\n",
      "11AND    220\n",
      "14SAN    220\n",
      "01LAK    220\n",
      "09IMA    220\n",
      "22LAK    220\n",
      "        ... \n",
      "13ONT    220\n",
      "07IMA    220\n",
      "06IMA    220\n",
      "04SAN    220\n",
      "17LAK    220\n",
      "Name: GAMEID, Length: 93, dtype: int64\n"
     ]
    }
   ],
   "source": [
    "print(data['GAMEID'].value_counts())\n",
    "data.replace({'GAMEID': {'O6IMA': '06IMA', 'O2IMA': '02IMA'}}, inplace=True)\n",
    "print('After correction:')\n",
    "print(data['GAMEID'].value_counts())"
   ]
  },
  {
   "cell_type": "code",
   "execution_count": 27,
   "metadata": {},
   "outputs": [],
   "source": [
    "game_groups = data.groupby(['GAMEID', 'Rounds', 'Treatments'])\n",
    "row_list = []\n",
    "i=0\n",
    "for grp in game_groups.groups:\n",
    "    #print(i)\n",
    "    i+=1\n",
    "    df = game_groups.get_group(grp)\n",
    "    col_list = ['{}_{}'.format(c, x) for x in [1, 2, 3, 4] for c in df.columns]\n",
    "    df = df.stack(dropna=False).to_frame().T\n",
    "    df.columns = col_list\n",
    "    row_list.append(df)\n",
    "data_grouped = pd.concat(row_list, axis=0, ignore_index=True)"
   ]
  },
  {
   "cell_type": "code",
   "execution_count": 28,
   "metadata": {},
   "outputs": [
    {
     "name": "stdout",
     "output_type": "stream",
     "text": [
      "GAMEID\n",
      "True\n",
      "True\n",
      "True\n",
      "Treatments\n",
      "True\n",
      "True\n",
      "True\n",
      "Rounds\n",
      "True\n",
      "True\n",
      "True\n",
      "Subs\n",
      "True\n",
      "True\n",
      "True\n",
      "Country\n",
      "True\n",
      "True\n",
      "True\n"
     ]
    }
   ],
   "source": [
    "lst = ['GAMEID', 'Treatments', 'Rounds', 'Subs', 'Country']\n",
    "for x in lst:\n",
    "    print(x)\n",
    "    a=x+'_1'\n",
    "    b=x+'_2'\n",
    "    c=x+'_3'\n",
    "    d=x+'_4'\n",
    "    print((data_grouped[a].dropna()==data_grouped[b].dropna()).all())\n",
    "    print((data_grouped[a].dropna()==data_grouped[c].dropna()).all())\n",
    "    print((data_grouped[a].dropna()==data_grouped[d].dropna()).all())"
   ]
  },
  {
   "cell_type": "code",
   "execution_count": 29,
   "metadata": {},
   "outputs": [],
   "source": [
    "common_col_list = ['GAMEID', 'Treatments', 'Rounds', 'Subs', 'Country']\n",
    "drop_list = ['{}_{}'.format(y, x) for x in [2, 3, 4] for y in common_col_list]\n",
    "name_list = ['{}_1'.format(y) for y in common_col_list]\n",
    "rename_dict = dict(zip(name_list, common_col_list))\n",
    "data_grouped.drop(drop_list, axis=1, inplace=True)\n",
    "data_grouped.rename(columns={'rimary_income_1': 'Primary_income_1', 'rimary_income_2': 'Primary_income_2',\n",
    "                            'rimary_income_3': 'Primary_income_3', 'rimary_income_4': 'Primary_income_4'})\n",
    "data_grouped.rename(columns=rename_dict, inplace=True)"
   ]
  },
  {
   "cell_type": "code",
   "execution_count": 30,
   "metadata": {},
   "outputs": [],
   "source": [
    "data_grouped.to_csv('./output/madken_grp.csv')"
   ]
  },
  {
   "cell_type": "markdown",
   "metadata": {},
   "source": [
    "## Grouping rounds for Tanzania data"
   ]
  },
  {
   "cell_type": "code",
   "execution_count": 31,
   "metadata": {},
   "outputs": [],
   "source": [
    "data = pd.read_excel('./data/Data Tanzania.xlsx')"
   ]
  },
  {
   "cell_type": "code",
   "execution_count": 32,
   "metadata": {},
   "outputs": [],
   "source": [
    "data.drop(['SN', 'year', 'month', 'day', 'hour', 'minute', 'second', 'culled'], axis=1, inplace=True)"
   ]
  },
  {
   "cell_type": "code",
   "execution_count": 33,
   "metadata": {},
   "outputs": [
    {
     "name": "stdout",
     "output_type": "stream",
     "text": [
      "['P' 'T1' 'T2' 'T3' 'T5']\n"
     ]
    },
    {
     "data": {
      "text/plain": [
       "array(['T1', 'T2', 'T3', 'T5'], dtype=object)"
      ]
     },
     "execution_count": 33,
     "metadata": {},
     "output_type": "execute_result"
    }
   ],
   "source": [
    "print(data['Treatments'].unique())\n",
    "data = data[data.Treatments != 'P']\n",
    "data['Treatments'].unique()"
   ]
  },
  {
   "cell_type": "code",
   "execution_count": 34,
   "metadata": {},
   "outputs": [],
   "source": [
    "game_groups = data.groupby(['GameID', 'Rounds', 'Treatments'])\n",
    "row_list = []\n",
    "i=0\n",
    "for grp in game_groups.groups:\n",
    "    #print(i)\n",
    "    i+=1\n",
    "    df = game_groups.get_group(grp)\n",
    "    col_list = ['{}_{}'.format(c, x) for x in [1, 2, 3, 4] for c in df.columns]\n",
    "    df = df.stack(dropna=False).to_frame().T\n",
    "    df.columns = col_list\n",
    "    row_list.append(df)\n",
    "data_grouped = pd.concat(row_list, axis=0, ignore_index=True)"
   ]
  },
  {
   "cell_type": "code",
   "execution_count": 35,
   "metadata": {},
   "outputs": [
    {
     "name": "stdout",
     "output_type": "stream",
     "text": [
      "GameID\n",
      "True\n",
      "True\n",
      "True\n",
      "Treatments\n",
      "True\n",
      "True\n",
      "True\n",
      "Rounds\n",
      "True\n",
      "True\n",
      "True\n",
      "subsidy\n",
      "True\n",
      "True\n",
      "True\n",
      "order\n",
      "True\n",
      "True\n",
      "True\n",
      "l_count\n",
      "True\n",
      "True\n",
      "True\n"
     ]
    }
   ],
   "source": [
    "lst = ['GameID', 'Treatments', 'Rounds', 'subsidy', 'order', 'l_count']\n",
    "for x in lst:\n",
    "    print(x)\n",
    "    a=x+'_1'\n",
    "    b=x+'_2'\n",
    "    c=x+'_3'\n",
    "    d=x+'_4'\n",
    "    print((data_grouped[a].dropna()==data_grouped[b].dropna()).all())\n",
    "    print((data_grouped[a].dropna()==data_grouped[c].dropna()).all())\n",
    "    print((data_grouped[a].dropna()==data_grouped[d].dropna()).all())"
   ]
  },
  {
   "cell_type": "code",
   "execution_count": 36,
   "metadata": {},
   "outputs": [],
   "source": [
    "common_col_list = ['GameID', 'Treatments', 'Rounds', 'subsidy', 'order', 'l_count']\n",
    "drop_list = ['{}_{}'.format(y, x) for x in [2, 3, 4] for y in common_col_list]\n",
    "name_list = ['{}_1'.format(y) for y in common_col_list]\n",
    "rename_dict = dict(zip(name_list, common_col_list))\n",
    "data_grouped.drop(drop_list, axis=1, inplace=True)\n",
    "data_grouped.rename(columns=rename_dict, inplace=True)"
   ]
  },
  {
   "cell_type": "code",
   "execution_count": 37,
   "metadata": {},
   "outputs": [],
   "source": [
    "data_grouped.to_csv('./output/tanzania_grp.csv')"
   ]
  },
  {
   "cell_type": "markdown",
   "metadata": {},
   "source": [
    "## Verifying Madagascar NonCropShare data"
   ]
  },
  {
   "cell_type": "code",
   "execution_count": 39,
   "metadata": {},
   "outputs": [],
   "source": [
    "data = pd.read_excel('./data/Data Madagascar NCS.xlsx')\n",
    "data = data[data['session ID'].notna()]\n",
    "data['session ID'] = np.where((data['session ID']=='23_GP')&(data['Round']==8)&(data['row.id']==608), '23_G4', data['session ID'])\n",
    "data['Treatment'] = np.where(data['Treatment'].isna(), 'Incentive Only', data['Treatment'])\n",
    "data['Treatment'] = np.where((data['Treatment']=='Communication Only')&(data['Round']==8)&(data['session ID']=='23_G4'),\n",
    "                             'Incentive Only', data['Treatment'])\n",
    "data.drop(index=data[data['session ID'].str.contains('_GP')==True].index, inplace=True)"
   ]
  },
  {
   "cell_type": "code",
   "execution_count": 40,
   "metadata": {},
   "outputs": [],
   "source": [
    "game_groups = data.groupby(['session ID', 'Round', 'Treatment'])\n",
    "row_list = []\n",
    "i=0\n",
    "for grp in game_groups.groups:\n",
    "    #print(i)\n",
    "    i+=1\n",
    "    df = game_groups.get_group(grp)\n",
    "    col_list = ['{}_{}'.format(c, x) for x in [1, 2, 3, 4] for c in df.columns]\n",
    "    df = df.stack(dropna=False).to_frame().T\n",
    "    df.columns = col_list\n",
    "    row_list.append(df)\n",
    "data_grouped = pd.concat(row_list, axis=0, ignore_index=True)"
   ]
  },
  {
   "cell_type": "code",
   "execution_count": 41,
   "metadata": {},
   "outputs": [
    {
     "data": {
      "text/plain": [
       "True"
      ]
     },
     "execution_count": 41,
     "metadata": {},
     "output_type": "execute_result"
    }
   ],
   "source": [
    "len(data['session ID'].unique()) * len(data['Round'].unique()) * len(data['Treatment'].unique()) == len(data)"
   ]
  },
  {
   "cell_type": "code",
   "execution_count": 42,
   "metadata": {},
   "outputs": [
    {
     "name": "stdout",
     "output_type": "stream",
     "text": [
      "True\n",
      "True\n",
      "True\n",
      "True\n",
      "True\n",
      "True\n"
     ]
    }
   ],
   "source": [
    "data_grouped['Subsidy_4'] = data_grouped['Subsidy_1']\n",
    "print((data_grouped['Subsidy_1']==data_grouped['Subsidy_2']).all())\n",
    "print((data_grouped['Subsidy_1']==data_grouped['Subsidy_3']).all())\n",
    "print((data_grouped['Subsidy_1']==data_grouped['Subsidy_4']).all())\n",
    "print((data_grouped['Subsidy_2']==data_grouped['Subsidy_3']).all())\n",
    "print((data_grouped['Subsidy_2']==data_grouped['Subsidy_4']).all())\n",
    "print((data_grouped['Subsidy_3']==data_grouped['Subsidy_4']).all())"
   ]
  },
  {
   "cell_type": "code",
   "execution_count": 43,
   "metadata": {},
   "outputs": [
    {
     "name": "stdout",
     "output_type": "stream",
     "text": [
      "session ID\n",
      "True\n",
      "True\n",
      "True\n",
      "Treatment\n",
      "True\n",
      "True\n",
      "True\n",
      "Round\n",
      "True\n",
      "True\n",
      "True\n",
      "Subsidy\n",
      "True\n",
      "True\n",
      "True\n",
      "Treatment_Order\n",
      "True\n",
      "True\n",
      "True\n"
     ]
    }
   ],
   "source": [
    "lst = ['session ID', 'Treatment', 'Round', 'Subsidy', 'Treatment_Order']\n",
    "for x in lst:\n",
    "    print(x)\n",
    "    a=x+'_1'\n",
    "    b=x+'_2'\n",
    "    c=x+'_3'\n",
    "    d=x+'_4'\n",
    "    print((data_grouped[a].dropna()==data_grouped[b].dropna()).all())\n",
    "    print((data_grouped[a].dropna()==data_grouped[c].dropna()).all())\n",
    "    print((data_grouped[a].dropna()==data_grouped[d].dropna()).all())"
   ]
  },
  {
   "cell_type": "code",
   "execution_count": 44,
   "metadata": {},
   "outputs": [],
   "source": [
    "common_col_list = ['session ID', 'Treatment', 'Round', 'Subsidy', 'Treatment_Order']\n",
    "drop_list = ['{}_{}'.format(y, x) for x in [2, 3, 4] for y in common_col_list]\n",
    "name_list = ['{}_1'.format(y) for y in common_col_list]\n",
    "rename_dict = dict(zip(name_list, common_col_list))\n",
    "data_grouped.drop(drop_list, axis=1, inplace=True)\n",
    "data_grouped.rename(columns=rename_dict, inplace=True)"
   ]
  },
  {
   "cell_type": "code",
   "execution_count": 45,
   "metadata": {},
   "outputs": [],
   "source": [
    "data_grouped.to_csv('./output/madgas_grp.csv')"
   ]
  },
  {
   "cell_type": "markdown",
   "metadata": {},
   "source": [
    "## Verifying Cambodia and Vietnam datasets"
   ]
  },
  {
   "cell_type": "code",
   "execution_count": 46,
   "metadata": {},
   "outputs": [],
   "source": [
    "data = pd.read_csv('./data/Data Vietnam.csv')"
   ]
  },
  {
   "cell_type": "code",
   "execution_count": 47,
   "metadata": {},
   "outputs": [
    {
     "data": {
      "text/plain": [
       "G3    1024\n",
       "G2    1024\n",
       "G1    1024\n",
       "G4    1024\n",
       "GP     384\n",
       "Name: Game, dtype: int64"
      ]
     },
     "execution_count": 47,
     "metadata": {},
     "output_type": "execute_result"
    }
   ],
   "source": [
    "data['Game'].value_counts()"
   ]
  },
  {
   "cell_type": "code",
   "execution_count": 48,
   "metadata": {},
   "outputs": [],
   "source": [
    "data = data[data['Game']!='GP']"
   ]
  },
  {
   "cell_type": "code",
   "execution_count": 49,
   "metadata": {},
   "outputs": [
    {
     "data": {
      "text/plain": [
       "True"
      ]
     },
     "execution_count": 49,
     "metadata": {},
     "output_type": "execute_result"
    }
   ],
   "source": [
    "len(data['Session'].unique()) * len(data['Round'].unique()) * len(data['Game'].unique()) == len(data)"
   ]
  },
  {
   "cell_type": "code",
   "execution_count": 50,
   "metadata": {},
   "outputs": [],
   "source": [
    "data = pd.read_csv('./data/Data Cambodia.csv')\n",
    "data = data[data['Game']!='GP']"
   ]
  },
  {
   "cell_type": "code",
   "execution_count": 51,
   "metadata": {},
   "outputs": [
    {
     "data": {
      "text/plain": [
       "True"
      ]
     },
     "execution_count": 51,
     "metadata": {},
     "output_type": "execute_result"
    }
   ],
   "source": [
    "len(data['Session'].unique()) * len(data['Round'].unique()) * len(data['Game'].unique()) == len(data)"
   ]
  },
  {
   "cell_type": "code",
   "execution_count": null,
   "metadata": {},
   "outputs": [],
   "source": []
  }
 ],
 "metadata": {
  "kernelspec": {
   "display_name": "Python 3",
   "language": "python",
   "name": "python3"
  },
  "language_info": {
   "codemirror_mode": {
    "name": "ipython",
    "version": 3
   },
   "file_extension": ".py",
   "mimetype": "text/x-python",
   "name": "python",
   "nbconvert_exporter": "python",
   "pygments_lexer": "ipython3",
   "version": "3.7.6"
  }
 },
 "nbformat": 4,
 "nbformat_minor": 4
}
